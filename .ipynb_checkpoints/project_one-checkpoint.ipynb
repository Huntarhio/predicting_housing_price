{
 "cells": [
  {
   "cell_type": "code",
   "execution_count": 1,
   "metadata": {},
   "outputs": [],
   "source": [
    "import pandas as pd\n",
    "import numpy as np\n",
    "import seaborn as sns\n",
    "import matplotlib.pyplot as plt\n",
    "from collections import defaultdict\n",
    "%matplotlib inline\n",
    "\n",
    "sns.set()"
   ]
  },
  {
   "cell_type": "code",
   "execution_count": 2,
   "metadata": {},
   "outputs": [],
   "source": [
    "listing_df = pd.read_csv('listings.csv')"
   ]
  },
  {
   "cell_type": "code",
   "execution_count": 3,
   "metadata": {},
   "outputs": [
    {
     "data": {
      "text/html": [
       "<div>\n",
       "<style scoped>\n",
       "    .dataframe tbody tr th:only-of-type {\n",
       "        vertical-align: middle;\n",
       "    }\n",
       "\n",
       "    .dataframe tbody tr th {\n",
       "        vertical-align: top;\n",
       "    }\n",
       "\n",
       "    .dataframe thead th {\n",
       "        text-align: right;\n",
       "    }\n",
       "</style>\n",
       "<table border=\"1\" class=\"dataframe\">\n",
       "  <thead>\n",
       "    <tr style=\"text-align: right;\">\n",
       "      <th></th>\n",
       "      <th>id</th>\n",
       "      <th>listing_url</th>\n",
       "      <th>scrape_id</th>\n",
       "      <th>last_scraped</th>\n",
       "      <th>name</th>\n",
       "      <th>summary</th>\n",
       "      <th>space</th>\n",
       "      <th>description</th>\n",
       "      <th>experiences_offered</th>\n",
       "      <th>neighborhood_overview</th>\n",
       "      <th>...</th>\n",
       "      <th>review_scores_value</th>\n",
       "      <th>requires_license</th>\n",
       "      <th>license</th>\n",
       "      <th>jurisdiction_names</th>\n",
       "      <th>instant_bookable</th>\n",
       "      <th>cancellation_policy</th>\n",
       "      <th>require_guest_profile_picture</th>\n",
       "      <th>require_guest_phone_verification</th>\n",
       "      <th>calculated_host_listings_count</th>\n",
       "      <th>reviews_per_month</th>\n",
       "    </tr>\n",
       "  </thead>\n",
       "  <tbody>\n",
       "    <tr>\n",
       "      <th>0</th>\n",
       "      <td>12147973</td>\n",
       "      <td>https://www.airbnb.com/rooms/12147973</td>\n",
       "      <td>20160906204935</td>\n",
       "      <td>2016-09-07</td>\n",
       "      <td>Sunny Bungalow in the City</td>\n",
       "      <td>Cozy, sunny, family home.  Master bedroom high...</td>\n",
       "      <td>The house has an open and cozy feel at the sam...</td>\n",
       "      <td>Cozy, sunny, family home.  Master bedroom high...</td>\n",
       "      <td>none</td>\n",
       "      <td>Roslindale is quiet, convenient and friendly. ...</td>\n",
       "      <td>...</td>\n",
       "      <td>NaN</td>\n",
       "      <td>f</td>\n",
       "      <td>NaN</td>\n",
       "      <td>NaN</td>\n",
       "      <td>f</td>\n",
       "      <td>moderate</td>\n",
       "      <td>f</td>\n",
       "      <td>f</td>\n",
       "      <td>1</td>\n",
       "      <td>NaN</td>\n",
       "    </tr>\n",
       "    <tr>\n",
       "      <th>1</th>\n",
       "      <td>3075044</td>\n",
       "      <td>https://www.airbnb.com/rooms/3075044</td>\n",
       "      <td>20160906204935</td>\n",
       "      <td>2016-09-07</td>\n",
       "      <td>Charming room in pet friendly apt</td>\n",
       "      <td>Charming and quiet room in a second floor 1910...</td>\n",
       "      <td>Small but cozy and quite room with a full size...</td>\n",
       "      <td>Charming and quiet room in a second floor 1910...</td>\n",
       "      <td>none</td>\n",
       "      <td>The room is in Roslindale, a diverse and prima...</td>\n",
       "      <td>...</td>\n",
       "      <td>9.0</td>\n",
       "      <td>f</td>\n",
       "      <td>NaN</td>\n",
       "      <td>NaN</td>\n",
       "      <td>t</td>\n",
       "      <td>moderate</td>\n",
       "      <td>f</td>\n",
       "      <td>f</td>\n",
       "      <td>1</td>\n",
       "      <td>1.30</td>\n",
       "    </tr>\n",
       "    <tr>\n",
       "      <th>2</th>\n",
       "      <td>6976</td>\n",
       "      <td>https://www.airbnb.com/rooms/6976</td>\n",
       "      <td>20160906204935</td>\n",
       "      <td>2016-09-07</td>\n",
       "      <td>Mexican Folk Art Haven in Boston</td>\n",
       "      <td>Come stay with a friendly, middle-aged guy in ...</td>\n",
       "      <td>Come stay with a friendly, middle-aged guy in ...</td>\n",
       "      <td>Come stay with a friendly, middle-aged guy in ...</td>\n",
       "      <td>none</td>\n",
       "      <td>The LOCATION: Roslindale is a safe and diverse...</td>\n",
       "      <td>...</td>\n",
       "      <td>10.0</td>\n",
       "      <td>f</td>\n",
       "      <td>NaN</td>\n",
       "      <td>NaN</td>\n",
       "      <td>f</td>\n",
       "      <td>moderate</td>\n",
       "      <td>t</td>\n",
       "      <td>f</td>\n",
       "      <td>1</td>\n",
       "      <td>0.47</td>\n",
       "    </tr>\n",
       "    <tr>\n",
       "      <th>3</th>\n",
       "      <td>1436513</td>\n",
       "      <td>https://www.airbnb.com/rooms/1436513</td>\n",
       "      <td>20160906204935</td>\n",
       "      <td>2016-09-07</td>\n",
       "      <td>Spacious Sunny Bedroom Suite in Historic Home</td>\n",
       "      <td>Come experience the comforts of home away from...</td>\n",
       "      <td>Most places you find in Boston are small howev...</td>\n",
       "      <td>Come experience the comforts of home away from...</td>\n",
       "      <td>none</td>\n",
       "      <td>Roslindale is a lovely little neighborhood loc...</td>\n",
       "      <td>...</td>\n",
       "      <td>10.0</td>\n",
       "      <td>f</td>\n",
       "      <td>NaN</td>\n",
       "      <td>NaN</td>\n",
       "      <td>f</td>\n",
       "      <td>moderate</td>\n",
       "      <td>f</td>\n",
       "      <td>f</td>\n",
       "      <td>1</td>\n",
       "      <td>1.00</td>\n",
       "    </tr>\n",
       "    <tr>\n",
       "      <th>4</th>\n",
       "      <td>7651065</td>\n",
       "      <td>https://www.airbnb.com/rooms/7651065</td>\n",
       "      <td>20160906204935</td>\n",
       "      <td>2016-09-07</td>\n",
       "      <td>Come Home to Boston</td>\n",
       "      <td>My comfy, clean and relaxing home is one block...</td>\n",
       "      <td>Clean, attractive, private room, one block fro...</td>\n",
       "      <td>My comfy, clean and relaxing home is one block...</td>\n",
       "      <td>none</td>\n",
       "      <td>I love the proximity to downtown, the neighbor...</td>\n",
       "      <td>...</td>\n",
       "      <td>10.0</td>\n",
       "      <td>f</td>\n",
       "      <td>NaN</td>\n",
       "      <td>NaN</td>\n",
       "      <td>f</td>\n",
       "      <td>flexible</td>\n",
       "      <td>f</td>\n",
       "      <td>f</td>\n",
       "      <td>1</td>\n",
       "      <td>2.25</td>\n",
       "    </tr>\n",
       "  </tbody>\n",
       "</table>\n",
       "<p>5 rows × 95 columns</p>\n",
       "</div>"
      ],
      "text/plain": [
       "         id                            listing_url       scrape_id  \\\n",
       "0  12147973  https://www.airbnb.com/rooms/12147973  20160906204935   \n",
       "1   3075044   https://www.airbnb.com/rooms/3075044  20160906204935   \n",
       "2      6976      https://www.airbnb.com/rooms/6976  20160906204935   \n",
       "3   1436513   https://www.airbnb.com/rooms/1436513  20160906204935   \n",
       "4   7651065   https://www.airbnb.com/rooms/7651065  20160906204935   \n",
       "\n",
       "  last_scraped                                           name  \\\n",
       "0   2016-09-07                     Sunny Bungalow in the City   \n",
       "1   2016-09-07              Charming room in pet friendly apt   \n",
       "2   2016-09-07               Mexican Folk Art Haven in Boston   \n",
       "3   2016-09-07  Spacious Sunny Bedroom Suite in Historic Home   \n",
       "4   2016-09-07                            Come Home to Boston   \n",
       "\n",
       "                                             summary  \\\n",
       "0  Cozy, sunny, family home.  Master bedroom high...   \n",
       "1  Charming and quiet room in a second floor 1910...   \n",
       "2  Come stay with a friendly, middle-aged guy in ...   \n",
       "3  Come experience the comforts of home away from...   \n",
       "4  My comfy, clean and relaxing home is one block...   \n",
       "\n",
       "                                               space  \\\n",
       "0  The house has an open and cozy feel at the sam...   \n",
       "1  Small but cozy and quite room with a full size...   \n",
       "2  Come stay with a friendly, middle-aged guy in ...   \n",
       "3  Most places you find in Boston are small howev...   \n",
       "4  Clean, attractive, private room, one block fro...   \n",
       "\n",
       "                                         description experiences_offered  \\\n",
       "0  Cozy, sunny, family home.  Master bedroom high...                none   \n",
       "1  Charming and quiet room in a second floor 1910...                none   \n",
       "2  Come stay with a friendly, middle-aged guy in ...                none   \n",
       "3  Come experience the comforts of home away from...                none   \n",
       "4  My comfy, clean and relaxing home is one block...                none   \n",
       "\n",
       "                               neighborhood_overview  ... review_scores_value  \\\n",
       "0  Roslindale is quiet, convenient and friendly. ...  ...                 NaN   \n",
       "1  The room is in Roslindale, a diverse and prima...  ...                 9.0   \n",
       "2  The LOCATION: Roslindale is a safe and diverse...  ...                10.0   \n",
       "3  Roslindale is a lovely little neighborhood loc...  ...                10.0   \n",
       "4  I love the proximity to downtown, the neighbor...  ...                10.0   \n",
       "\n",
       "  requires_license license jurisdiction_names instant_bookable  \\\n",
       "0                f     NaN                NaN                f   \n",
       "1                f     NaN                NaN                t   \n",
       "2                f     NaN                NaN                f   \n",
       "3                f     NaN                NaN                f   \n",
       "4                f     NaN                NaN                f   \n",
       "\n",
       "  cancellation_policy require_guest_profile_picture  \\\n",
       "0            moderate                             f   \n",
       "1            moderate                             f   \n",
       "2            moderate                             t   \n",
       "3            moderate                             f   \n",
       "4            flexible                             f   \n",
       "\n",
       "  require_guest_phone_verification calculated_host_listings_count  \\\n",
       "0                                f                              1   \n",
       "1                                f                              1   \n",
       "2                                f                              1   \n",
       "3                                f                              1   \n",
       "4                                f                              1   \n",
       "\n",
       "   reviews_per_month  \n",
       "0                NaN  \n",
       "1               1.30  \n",
       "2               0.47  \n",
       "3               1.00  \n",
       "4               2.25  \n",
       "\n",
       "[5 rows x 95 columns]"
      ]
     },
     "execution_count": 3,
     "metadata": {},
     "output_type": "execute_result"
    }
   ],
   "source": [
    "listing_df.head()"
   ]
  },
  {
   "cell_type": "code",
   "execution_count": 4,
   "metadata": {},
   "outputs": [
    {
     "name": "stdout",
     "output_type": "stream",
     "text": [
      "<class 'pandas.core.frame.DataFrame'>\n",
      "RangeIndex: 3585 entries, 0 to 3584\n",
      "Data columns (total 95 columns):\n",
      "id                                  3585 non-null int64\n",
      "listing_url                         3585 non-null object\n",
      "scrape_id                           3585 non-null int64\n",
      "last_scraped                        3585 non-null object\n",
      "name                                3585 non-null object\n",
      "summary                             3442 non-null object\n",
      "space                               2528 non-null object\n",
      "description                         3585 non-null object\n",
      "experiences_offered                 3585 non-null object\n",
      "neighborhood_overview               2170 non-null object\n",
      "notes                               1610 non-null object\n",
      "transit                             2295 non-null object\n",
      "access                              2096 non-null object\n",
      "interaction                         2031 non-null object\n",
      "house_rules                         2393 non-null object\n",
      "thumbnail_url                       2986 non-null object\n",
      "medium_url                          2986 non-null object\n",
      "picture_url                         3585 non-null object\n",
      "xl_picture_url                      2986 non-null object\n",
      "host_id                             3585 non-null int64\n",
      "host_url                            3585 non-null object\n",
      "host_name                           3585 non-null object\n",
      "host_since                          3585 non-null object\n",
      "host_location                       3574 non-null object\n",
      "host_about                          2276 non-null object\n",
      "host_response_time                  3114 non-null object\n",
      "host_response_rate                  3114 non-null object\n",
      "host_acceptance_rate                3114 non-null object\n",
      "host_is_superhost                   3585 non-null object\n",
      "host_thumbnail_url                  3585 non-null object\n",
      "host_picture_url                    3585 non-null object\n",
      "host_neighbourhood                  3246 non-null object\n",
      "host_listings_count                 3585 non-null int64\n",
      "host_total_listings_count           3585 non-null int64\n",
      "host_verifications                  3585 non-null object\n",
      "host_has_profile_pic                3585 non-null object\n",
      "host_identity_verified              3585 non-null object\n",
      "street                              3585 non-null object\n",
      "neighbourhood                       3042 non-null object\n",
      "neighbourhood_cleansed              3585 non-null object\n",
      "neighbourhood_group_cleansed        0 non-null float64\n",
      "city                                3583 non-null object\n",
      "state                               3585 non-null object\n",
      "zipcode                             3547 non-null object\n",
      "market                              3571 non-null object\n",
      "smart_location                      3585 non-null object\n",
      "country_code                        3585 non-null object\n",
      "country                             3585 non-null object\n",
      "latitude                            3585 non-null float64\n",
      "longitude                           3585 non-null float64\n",
      "is_location_exact                   3585 non-null object\n",
      "property_type                       3582 non-null object\n",
      "room_type                           3585 non-null object\n",
      "accommodates                        3585 non-null int64\n",
      "bathrooms                           3571 non-null float64\n",
      "bedrooms                            3575 non-null float64\n",
      "beds                                3576 non-null float64\n",
      "bed_type                            3585 non-null object\n",
      "amenities                           3585 non-null object\n",
      "square_feet                         56 non-null float64\n",
      "price                               3585 non-null object\n",
      "weekly_price                        892 non-null object\n",
      "monthly_price                       888 non-null object\n",
      "security_deposit                    1342 non-null object\n",
      "cleaning_fee                        2478 non-null object\n",
      "guests_included                     3585 non-null int64\n",
      "extra_people                        3585 non-null object\n",
      "minimum_nights                      3585 non-null int64\n",
      "maximum_nights                      3585 non-null int64\n",
      "calendar_updated                    3585 non-null object\n",
      "has_availability                    0 non-null float64\n",
      "availability_30                     3585 non-null int64\n",
      "availability_60                     3585 non-null int64\n",
      "availability_90                     3585 non-null int64\n",
      "availability_365                    3585 non-null int64\n",
      "calendar_last_scraped               3585 non-null object\n",
      "number_of_reviews                   3585 non-null int64\n",
      "first_review                        2829 non-null object\n",
      "last_review                         2829 non-null object\n",
      "review_scores_rating                2772 non-null float64\n",
      "review_scores_accuracy              2762 non-null float64\n",
      "review_scores_cleanliness           2767 non-null float64\n",
      "review_scores_checkin               2765 non-null float64\n",
      "review_scores_communication         2767 non-null float64\n",
      "review_scores_location              2763 non-null float64\n",
      "review_scores_value                 2764 non-null float64\n",
      "requires_license                    3585 non-null object\n",
      "license                             0 non-null float64\n",
      "jurisdiction_names                  0 non-null float64\n",
      "instant_bookable                    3585 non-null object\n",
      "cancellation_policy                 3585 non-null object\n",
      "require_guest_profile_picture       3585 non-null object\n",
      "require_guest_phone_verification    3585 non-null object\n",
      "calculated_host_listings_count      3585 non-null int64\n",
      "reviews_per_month                   2829 non-null float64\n",
      "dtypes: float64(18), int64(15), object(62)\n",
      "memory usage: 2.6+ MB\n"
     ]
    }
   ],
   "source": [
    "listing_df.info()"
   ]
  },
  {
   "cell_type": "code",
   "execution_count": 5,
   "metadata": {},
   "outputs": [
    {
     "data": {
      "text/html": [
       "<div>\n",
       "<style scoped>\n",
       "    .dataframe tbody tr th:only-of-type {\n",
       "        vertical-align: middle;\n",
       "    }\n",
       "\n",
       "    .dataframe tbody tr th {\n",
       "        vertical-align: top;\n",
       "    }\n",
       "\n",
       "    .dataframe thead th {\n",
       "        text-align: right;\n",
       "    }\n",
       "</style>\n",
       "<table border=\"1\" class=\"dataframe\">\n",
       "  <thead>\n",
       "    <tr style=\"text-align: right;\">\n",
       "      <th></th>\n",
       "      <th>id</th>\n",
       "      <th>scrape_id</th>\n",
       "      <th>host_id</th>\n",
       "      <th>host_listings_count</th>\n",
       "      <th>host_total_listings_count</th>\n",
       "      <th>neighbourhood_group_cleansed</th>\n",
       "      <th>latitude</th>\n",
       "      <th>longitude</th>\n",
       "      <th>accommodates</th>\n",
       "      <th>bathrooms</th>\n",
       "      <th>...</th>\n",
       "      <th>review_scores_accuracy</th>\n",
       "      <th>review_scores_cleanliness</th>\n",
       "      <th>review_scores_checkin</th>\n",
       "      <th>review_scores_communication</th>\n",
       "      <th>review_scores_location</th>\n",
       "      <th>review_scores_value</th>\n",
       "      <th>license</th>\n",
       "      <th>jurisdiction_names</th>\n",
       "      <th>calculated_host_listings_count</th>\n",
       "      <th>reviews_per_month</th>\n",
       "    </tr>\n",
       "  </thead>\n",
       "  <tbody>\n",
       "    <tr>\n",
       "      <th>count</th>\n",
       "      <td>3.585000e+03</td>\n",
       "      <td>3.585000e+03</td>\n",
       "      <td>3.585000e+03</td>\n",
       "      <td>3585.000000</td>\n",
       "      <td>3585.000000</td>\n",
       "      <td>0.0</td>\n",
       "      <td>3585.000000</td>\n",
       "      <td>3585.000000</td>\n",
       "      <td>3585.000000</td>\n",
       "      <td>3571.000000</td>\n",
       "      <td>...</td>\n",
       "      <td>2762.000000</td>\n",
       "      <td>2767.000000</td>\n",
       "      <td>2765.000000</td>\n",
       "      <td>2767.000000</td>\n",
       "      <td>2763.000000</td>\n",
       "      <td>2764.000000</td>\n",
       "      <td>0.0</td>\n",
       "      <td>0.0</td>\n",
       "      <td>3585.000000</td>\n",
       "      <td>2829.000000</td>\n",
       "    </tr>\n",
       "    <tr>\n",
       "      <th>mean</th>\n",
       "      <td>8.440875e+06</td>\n",
       "      <td>2.016091e+13</td>\n",
       "      <td>2.492311e+07</td>\n",
       "      <td>58.902371</td>\n",
       "      <td>58.902371</td>\n",
       "      <td>NaN</td>\n",
       "      <td>42.340032</td>\n",
       "      <td>-71.084818</td>\n",
       "      <td>3.041283</td>\n",
       "      <td>1.221647</td>\n",
       "      <td>...</td>\n",
       "      <td>9.431571</td>\n",
       "      <td>9.258041</td>\n",
       "      <td>9.646293</td>\n",
       "      <td>9.646549</td>\n",
       "      <td>9.414043</td>\n",
       "      <td>9.168234</td>\n",
       "      <td>NaN</td>\n",
       "      <td>NaN</td>\n",
       "      <td>12.733891</td>\n",
       "      <td>1.970908</td>\n",
       "    </tr>\n",
       "    <tr>\n",
       "      <th>std</th>\n",
       "      <td>4.500787e+06</td>\n",
       "      <td>8.516813e-01</td>\n",
       "      <td>2.292781e+07</td>\n",
       "      <td>171.119663</td>\n",
       "      <td>171.119663</td>\n",
       "      <td>NaN</td>\n",
       "      <td>0.024403</td>\n",
       "      <td>0.031565</td>\n",
       "      <td>1.778929</td>\n",
       "      <td>0.501487</td>\n",
       "      <td>...</td>\n",
       "      <td>0.931863</td>\n",
       "      <td>1.168977</td>\n",
       "      <td>0.762753</td>\n",
       "      <td>0.735507</td>\n",
       "      <td>0.903436</td>\n",
       "      <td>1.011116</td>\n",
       "      <td>NaN</td>\n",
       "      <td>NaN</td>\n",
       "      <td>29.415076</td>\n",
       "      <td>2.120561</td>\n",
       "    </tr>\n",
       "    <tr>\n",
       "      <th>min</th>\n",
       "      <td>3.353000e+03</td>\n",
       "      <td>2.016091e+13</td>\n",
       "      <td>4.240000e+03</td>\n",
       "      <td>0.000000</td>\n",
       "      <td>0.000000</td>\n",
       "      <td>NaN</td>\n",
       "      <td>42.235942</td>\n",
       "      <td>-71.171789</td>\n",
       "      <td>1.000000</td>\n",
       "      <td>0.000000</td>\n",
       "      <td>...</td>\n",
       "      <td>2.000000</td>\n",
       "      <td>2.000000</td>\n",
       "      <td>2.000000</td>\n",
       "      <td>4.000000</td>\n",
       "      <td>2.000000</td>\n",
       "      <td>2.000000</td>\n",
       "      <td>NaN</td>\n",
       "      <td>NaN</td>\n",
       "      <td>1.000000</td>\n",
       "      <td>0.010000</td>\n",
       "    </tr>\n",
       "    <tr>\n",
       "      <th>25%</th>\n",
       "      <td>4.679319e+06</td>\n",
       "      <td>2.016091e+13</td>\n",
       "      <td>6.103425e+06</td>\n",
       "      <td>1.000000</td>\n",
       "      <td>1.000000</td>\n",
       "      <td>NaN</td>\n",
       "      <td>42.329995</td>\n",
       "      <td>-71.105083</td>\n",
       "      <td>2.000000</td>\n",
       "      <td>1.000000</td>\n",
       "      <td>...</td>\n",
       "      <td>9.000000</td>\n",
       "      <td>9.000000</td>\n",
       "      <td>9.000000</td>\n",
       "      <td>9.000000</td>\n",
       "      <td>9.000000</td>\n",
       "      <td>9.000000</td>\n",
       "      <td>NaN</td>\n",
       "      <td>NaN</td>\n",
       "      <td>1.000000</td>\n",
       "      <td>0.480000</td>\n",
       "    </tr>\n",
       "    <tr>\n",
       "      <th>50%</th>\n",
       "      <td>8.577620e+06</td>\n",
       "      <td>2.016091e+13</td>\n",
       "      <td>1.928100e+07</td>\n",
       "      <td>2.000000</td>\n",
       "      <td>2.000000</td>\n",
       "      <td>NaN</td>\n",
       "      <td>42.345201</td>\n",
       "      <td>-71.078429</td>\n",
       "      <td>2.000000</td>\n",
       "      <td>1.000000</td>\n",
       "      <td>...</td>\n",
       "      <td>10.000000</td>\n",
       "      <td>10.000000</td>\n",
       "      <td>10.000000</td>\n",
       "      <td>10.000000</td>\n",
       "      <td>10.000000</td>\n",
       "      <td>9.000000</td>\n",
       "      <td>NaN</td>\n",
       "      <td>NaN</td>\n",
       "      <td>2.000000</td>\n",
       "      <td>1.170000</td>\n",
       "    </tr>\n",
       "    <tr>\n",
       "      <th>75%</th>\n",
       "      <td>1.278953e+07</td>\n",
       "      <td>2.016091e+13</td>\n",
       "      <td>3.622147e+07</td>\n",
       "      <td>7.000000</td>\n",
       "      <td>7.000000</td>\n",
       "      <td>NaN</td>\n",
       "      <td>42.354685</td>\n",
       "      <td>-71.062155</td>\n",
       "      <td>4.000000</td>\n",
       "      <td>1.000000</td>\n",
       "      <td>...</td>\n",
       "      <td>10.000000</td>\n",
       "      <td>10.000000</td>\n",
       "      <td>10.000000</td>\n",
       "      <td>10.000000</td>\n",
       "      <td>10.000000</td>\n",
       "      <td>10.000000</td>\n",
       "      <td>NaN</td>\n",
       "      <td>NaN</td>\n",
       "      <td>6.000000</td>\n",
       "      <td>2.720000</td>\n",
       "    </tr>\n",
       "    <tr>\n",
       "      <th>max</th>\n",
       "      <td>1.493346e+07</td>\n",
       "      <td>2.016091e+13</td>\n",
       "      <td>9.385411e+07</td>\n",
       "      <td>749.000000</td>\n",
       "      <td>749.000000</td>\n",
       "      <td>NaN</td>\n",
       "      <td>42.389982</td>\n",
       "      <td>-71.000100</td>\n",
       "      <td>16.000000</td>\n",
       "      <td>6.000000</td>\n",
       "      <td>...</td>\n",
       "      <td>10.000000</td>\n",
       "      <td>10.000000</td>\n",
       "      <td>10.000000</td>\n",
       "      <td>10.000000</td>\n",
       "      <td>10.000000</td>\n",
       "      <td>10.000000</td>\n",
       "      <td>NaN</td>\n",
       "      <td>NaN</td>\n",
       "      <td>136.000000</td>\n",
       "      <td>19.150000</td>\n",
       "    </tr>\n",
       "  </tbody>\n",
       "</table>\n",
       "<p>8 rows × 33 columns</p>\n",
       "</div>"
      ],
      "text/plain": [
       "                 id     scrape_id       host_id  host_listings_count  \\\n",
       "count  3.585000e+03  3.585000e+03  3.585000e+03          3585.000000   \n",
       "mean   8.440875e+06  2.016091e+13  2.492311e+07            58.902371   \n",
       "std    4.500787e+06  8.516813e-01  2.292781e+07           171.119663   \n",
       "min    3.353000e+03  2.016091e+13  4.240000e+03             0.000000   \n",
       "25%    4.679319e+06  2.016091e+13  6.103425e+06             1.000000   \n",
       "50%    8.577620e+06  2.016091e+13  1.928100e+07             2.000000   \n",
       "75%    1.278953e+07  2.016091e+13  3.622147e+07             7.000000   \n",
       "max    1.493346e+07  2.016091e+13  9.385411e+07           749.000000   \n",
       "\n",
       "       host_total_listings_count  neighbourhood_group_cleansed     latitude  \\\n",
       "count                3585.000000                           0.0  3585.000000   \n",
       "mean                   58.902371                           NaN    42.340032   \n",
       "std                   171.119663                           NaN     0.024403   \n",
       "min                     0.000000                           NaN    42.235942   \n",
       "25%                     1.000000                           NaN    42.329995   \n",
       "50%                     2.000000                           NaN    42.345201   \n",
       "75%                     7.000000                           NaN    42.354685   \n",
       "max                   749.000000                           NaN    42.389982   \n",
       "\n",
       "         longitude  accommodates    bathrooms  ...  review_scores_accuracy  \\\n",
       "count  3585.000000   3585.000000  3571.000000  ...             2762.000000   \n",
       "mean    -71.084818      3.041283     1.221647  ...                9.431571   \n",
       "std       0.031565      1.778929     0.501487  ...                0.931863   \n",
       "min     -71.171789      1.000000     0.000000  ...                2.000000   \n",
       "25%     -71.105083      2.000000     1.000000  ...                9.000000   \n",
       "50%     -71.078429      2.000000     1.000000  ...               10.000000   \n",
       "75%     -71.062155      4.000000     1.000000  ...               10.000000   \n",
       "max     -71.000100     16.000000     6.000000  ...               10.000000   \n",
       "\n",
       "       review_scores_cleanliness  review_scores_checkin  \\\n",
       "count                2767.000000            2765.000000   \n",
       "mean                    9.258041               9.646293   \n",
       "std                     1.168977               0.762753   \n",
       "min                     2.000000               2.000000   \n",
       "25%                     9.000000               9.000000   \n",
       "50%                    10.000000              10.000000   \n",
       "75%                    10.000000              10.000000   \n",
       "max                    10.000000              10.000000   \n",
       "\n",
       "       review_scores_communication  review_scores_location  \\\n",
       "count                  2767.000000             2763.000000   \n",
       "mean                      9.646549                9.414043   \n",
       "std                       0.735507                0.903436   \n",
       "min                       4.000000                2.000000   \n",
       "25%                       9.000000                9.000000   \n",
       "50%                      10.000000               10.000000   \n",
       "75%                      10.000000               10.000000   \n",
       "max                      10.000000               10.000000   \n",
       "\n",
       "       review_scores_value  license  jurisdiction_names  \\\n",
       "count          2764.000000      0.0                 0.0   \n",
       "mean              9.168234      NaN                 NaN   \n",
       "std               1.011116      NaN                 NaN   \n",
       "min               2.000000      NaN                 NaN   \n",
       "25%               9.000000      NaN                 NaN   \n",
       "50%               9.000000      NaN                 NaN   \n",
       "75%              10.000000      NaN                 NaN   \n",
       "max              10.000000      NaN                 NaN   \n",
       "\n",
       "       calculated_host_listings_count  reviews_per_month  \n",
       "count                     3585.000000        2829.000000  \n",
       "mean                        12.733891           1.970908  \n",
       "std                         29.415076           2.120561  \n",
       "min                          1.000000           0.010000  \n",
       "25%                          1.000000           0.480000  \n",
       "50%                          2.000000           1.170000  \n",
       "75%                          6.000000           2.720000  \n",
       "max                        136.000000          19.150000  \n",
       "\n",
       "[8 rows x 33 columns]"
      ]
     },
     "execution_count": 5,
     "metadata": {},
     "output_type": "execute_result"
    }
   ],
   "source": [
    "listing_df.describe()"
   ]
  },
  {
   "cell_type": "markdown",
   "metadata": {},
   "source": [
    "# Data cleaning, munging and feature engineering"
   ]
  },
  {
   "cell_type": "markdown",
   "metadata": {},
   "source": [
    "The next step is to clean this data and structure it for easier analysis by removing empty rows/columns or creating new features from columns. This is usually the longest step as it requires parsing each column and making sure it is as expected (especially if it is the first time you are working with the dataset)"
   ]
  },
  {
   "cell_type": "code",
   "execution_count": 6,
   "metadata": {},
   "outputs": [],
   "source": [
    "def get_num_null(df):\n",
    "    \"\"\"\n",
    "    This function computes the count of the missing values in each column of a dataframe\n",
    "    \n",
    "    Parameters: \n",
    "            DataFrame like object\n",
    "            \n",
    "    Returns:\n",
    "            a python dictionary like object\n",
    "    \"\"\"\n",
    "    null_counts = {}\n",
    "    for col in df.columns:\n",
    "        # looping through the list of columns and obtaining the missing value counts and its \n",
    "        #proportion and add it to a dictionary\n",
    "        null_counts[col] = {'count':sum(df[col].isnull()),\n",
    "                           'proportion': sum(df[col].isnull())/df.shape[0]\n",
    "                           }\n",
    "    return null_counts"
   ]
  },
  {
   "cell_type": "code",
   "execution_count": 7,
   "metadata": {},
   "outputs": [],
   "source": [
    "listing_null_counts = get_num_null(listing_df)  # obtaing a dictionary of columns with missing values"
   ]
  },
  {
   "cell_type": "code",
   "execution_count": 8,
   "metadata": {},
   "outputs": [],
   "source": [
    "def drop_high_null_counts(df, cut_off = 0.1):\n",
    "    \"\"\"\n",
    "    This function removes the columns with very high count of the missing values of a dataframe\n",
    "    \n",
    "    Parameters: \n",
    "            df: DataFrame like object\n",
    "            cut_off: accepted proportion of missing values\n",
    "            \n",
    "    Returns:\n",
    "            df: DataFrame like object\n",
    "    \"\"\"\n",
    "    \n",
    "    # looping through the coulmns with null values and dropping columns with proportion greater than the specified cut off\n",
    "    for col in listing_null_counts:\n",
    "        if listing_null_counts[col]['proportion'] > cut_off:\n",
    "            df = df.drop(col, axis=1)\n",
    "    return df"
   ]
  },
  {
   "cell_type": "code",
   "execution_count": 9,
   "metadata": {},
   "outputs": [],
   "source": [
    "listing_new = drop_high_null_counts(listing_df)  #dropping columns with high proportion of missing values"
   ]
  },
  {
   "cell_type": "code",
   "execution_count": 10,
   "metadata": {},
   "outputs": [
    {
     "data": {
      "text/plain": [
       "Entire home/apt    2127\n",
       "Private room       1378\n",
       "Shared room          80\n",
       "Name: room_type, dtype: int64"
      ]
     },
     "execution_count": 10,
     "metadata": {},
     "output_type": "execute_result"
    }
   ],
   "source": [
    "listing_new['room_type'].value_counts()"
   ]
  },
  {
   "cell_type": "code",
   "execution_count": 11,
   "metadata": {},
   "outputs": [
    {
     "name": "stdout",
     "output_type": "stream",
     "text": [
      "<class 'pandas.core.frame.DataFrame'>\n",
      "RangeIndex: 3585 entries, 0 to 3584\n",
      "Data columns (total 61 columns):\n",
      "id                                  3585 non-null int64\n",
      "listing_url                         3585 non-null object\n",
      "scrape_id                           3585 non-null int64\n",
      "last_scraped                        3585 non-null object\n",
      "name                                3585 non-null object\n",
      "summary                             3442 non-null object\n",
      "description                         3585 non-null object\n",
      "experiences_offered                 3585 non-null object\n",
      "picture_url                         3585 non-null object\n",
      "host_id                             3585 non-null int64\n",
      "host_url                            3585 non-null object\n",
      "host_name                           3585 non-null object\n",
      "host_since                          3585 non-null object\n",
      "host_location                       3574 non-null object\n",
      "host_is_superhost                   3585 non-null object\n",
      "host_thumbnail_url                  3585 non-null object\n",
      "host_picture_url                    3585 non-null object\n",
      "host_neighbourhood                  3246 non-null object\n",
      "host_listings_count                 3585 non-null int64\n",
      "host_total_listings_count           3585 non-null int64\n",
      "host_verifications                  3585 non-null object\n",
      "host_has_profile_pic                3585 non-null object\n",
      "host_identity_verified              3585 non-null object\n",
      "street                              3585 non-null object\n",
      "neighbourhood_cleansed              3585 non-null object\n",
      "city                                3583 non-null object\n",
      "state                               3585 non-null object\n",
      "zipcode                             3547 non-null object\n",
      "market                              3571 non-null object\n",
      "smart_location                      3585 non-null object\n",
      "country_code                        3585 non-null object\n",
      "country                             3585 non-null object\n",
      "latitude                            3585 non-null float64\n",
      "longitude                           3585 non-null float64\n",
      "is_location_exact                   3585 non-null object\n",
      "property_type                       3582 non-null object\n",
      "room_type                           3585 non-null object\n",
      "accommodates                        3585 non-null int64\n",
      "bathrooms                           3571 non-null float64\n",
      "bedrooms                            3575 non-null float64\n",
      "beds                                3576 non-null float64\n",
      "bed_type                            3585 non-null object\n",
      "amenities                           3585 non-null object\n",
      "price                               3585 non-null object\n",
      "guests_included                     3585 non-null int64\n",
      "extra_people                        3585 non-null object\n",
      "minimum_nights                      3585 non-null int64\n",
      "maximum_nights                      3585 non-null int64\n",
      "calendar_updated                    3585 non-null object\n",
      "availability_30                     3585 non-null int64\n",
      "availability_60                     3585 non-null int64\n",
      "availability_90                     3585 non-null int64\n",
      "availability_365                    3585 non-null int64\n",
      "calendar_last_scraped               3585 non-null object\n",
      "number_of_reviews                   3585 non-null int64\n",
      "requires_license                    3585 non-null object\n",
      "instant_bookable                    3585 non-null object\n",
      "cancellation_policy                 3585 non-null object\n",
      "require_guest_profile_picture       3585 non-null object\n",
      "require_guest_phone_verification    3585 non-null object\n",
      "calculated_host_listings_count      3585 non-null int64\n",
      "dtypes: float64(5), int64(15), object(41)\n",
      "memory usage: 1.7+ MB\n"
     ]
    }
   ],
   "source": [
    "listing_new.info()"
   ]
  },
  {
   "cell_type": "markdown",
   "metadata": {},
   "source": [
    "The Price Columns seems to come with the dollar sign. This will prevent us fro being able to perform numerical calculations with the column, unless we clean the column. the standard library 're' has a fucnction called sub which we will use"
   ]
  },
  {
   "cell_type": "code",
   "execution_count": 12,
   "metadata": {},
   "outputs": [],
   "source": [
    "def extract_numbers(x):\n",
    "    \"\"\"\n",
    "    This function extracts the numeric values from a string and converts to float\n",
    "    \n",
    "    Parameters: \n",
    "            x: string like object\n",
    "            \n",
    "    Returns:\n",
    "            df: float like object\n",
    "    \"\"\"\n",
    "    import re\n",
    "    if type(x) == str:\n",
    "        row = float(re.sub('\\D', '', x))\n",
    "    else:\n",
    "        row = x \n",
    "    return row\n",
    "listing_new['price'] = listing_new['price'].apply(lambda row: extract_numbers(row))"
   ]
  },
  {
   "cell_type": "markdown",
   "metadata": {},
   "source": [
    "The data contains both categorical and numerical features. in order to perform numerical analysis on the numerical features and perform qualitative analysis on the categorical features, we will seperate them into their own subsets"
   ]
  },
  {
   "cell_type": "code",
   "execution_count": 13,
   "metadata": {},
   "outputs": [],
   "source": [
    "def get_numeric_data(df):\n",
    "    \"\"\"\n",
    "    This function gets the numerical variables of a pandas dataframe like objects\n",
    "    \n",
    "    Parameters: \n",
    "            df: a dataframe like object\n",
    "            \n",
    "    Returns:\n",
    "            data: dataframe like object\n",
    "    \"\"\"\n",
    "    data = df.select_dtypes(include=np.number)  # selecting columns where data type is an numpy numeric type\n",
    "    return data\n",
    "\n",
    "def get_category_data(df):\n",
    "    \"\"\"\n",
    "    This function gets the categorical variables of a pandas dataframe like objects\n",
    "    \n",
    "    Parameters: \n",
    "            df: a dataframe like object\n",
    "            \n",
    "    Returns:\n",
    "            dataframe like object\n",
    "    \"\"\"\n",
    "    data = df.select_dtypes(include=['object']) # selecting columns where data type is an object\n",
    "\n",
    "    return data"
   ]
  },
  {
   "cell_type": "code",
   "execution_count": 14,
   "metadata": {},
   "outputs": [],
   "source": [
    "num_vars = get_numeric_data(listing_new)\n",
    "cat_vars = get_category_data(listing_new)\n",
    "price = num_vars['price']\n",
    "num_var_features = num_vars.drop('price', axis=1)"
   ]
  },
  {
   "cell_type": "markdown",
   "metadata": {},
   "source": [
    "The categorical features in this data has features with levels greater than 5. to avoid havin too much features after creating dummy variables of the features, we shall drop the categorical features with levels greater than 5"
   ]
  },
  {
   "cell_type": "code",
   "execution_count": 15,
   "metadata": {},
   "outputs": [],
   "source": [
    "def get_cat_normal_level(df, levels = (1, 5)):\n",
    "    \"\"\"\n",
    "    This function drops categorical columns with levels between the initialized levels\n",
    "    \n",
    "    Parameters: \n",
    "            df: a dataframe like object\n",
    "            levels: a tuple like object of lenght two which signifies the levels. it is initialized between 1 and 5\n",
    "            \n",
    "    Returns:\n",
    "            figure: a matplot figure like object\n",
    "    \"\"\"\n",
    "    for column in df.columns:\n",
    "        num_counts = len(df[column].value_counts())  #obtaining the number of levels\n",
    "        if num_counts > levels[0] and num_counts <= levels[1]:\n",
    "            # if the number of levels is not within the range, drop such feature\n",
    "            data = df.drop(column, axis=1)\n",
    "        \n",
    "    return data\n",
    "#dropping all categorical features with levels less than 2 or greater than 5\n",
    "categorical_features = get_cat_normal_level(cat_vars)"
   ]
  },
  {
   "cell_type": "markdown",
   "metadata": {},
   "source": [
    "After dropping features with very high proportion of missing values, it is expedient that we handle other features that still has missing values in them. \n",
    "the next section fills the numeric features with the mean of the features and the categorical features does so with the mode"
   ]
  },
  {
   "cell_type": "code",
   "execution_count": 16,
   "metadata": {},
   "outputs": [],
   "source": [
    "def fill_na(data, type_='numeric'):\n",
    "    \"\"\"\n",
    "    This function fills the missing values of the columns of a dataframe like object\n",
    "    \n",
    "    Parameters: \n",
    "            data: a dataframe like object with all columns either numerical or categorical\n",
    "            type_: a string like object that specifies whether to fill a \n",
    "                    numerical dataframe or categorial dataframe\n",
    "            \n",
    "    Returns:\n",
    "            figure: a matplot figure like object\n",
    "    \"\"\"\n",
    "    if type_ == 'numeric':\n",
    "        for col in data.columns:\n",
    "            data[col] = data[col].fillna(data[col].mean())  \n",
    "    else:\n",
    "        for col in data.columns:\n",
    "            data[col] = data[col].fillna(data[col].mode()[0])\n",
    "    return data\n",
    "categorical_features = fill_na(categorical_features, type_='category')\n",
    "num_var_features=fill_na(num_var_features)"
   ]
  },
  {
   "cell_type": "code",
   "execution_count": 17,
   "metadata": {},
   "outputs": [],
   "source": [
    "# dropping othet features that are not needed for the analysis\n",
    "categorical_features = categorical_features.drop(['last_scraped', 'experiences_offered', 'state', 'country', 'country_code', 'calendar_last_scraped'], axis=1)"
   ]
  },
  {
   "cell_type": "code",
   "execution_count": 18,
   "metadata": {},
   "outputs": [],
   "source": [
    "categorical_dummies = pd.get_dummies(data=categorical_features) # getting dummies of the categorical features"
   ]
  },
  {
   "cell_type": "markdown",
   "metadata": {},
   "source": [
    "# What is the distribution of price"
   ]
  },
  {
   "cell_type": "markdown",
   "metadata": {},
   "source": [
    "To have an idea of how the housing price is distributed, a histogram plot will be used to visualize the distribution"
   ]
  },
  {
   "cell_type": "code",
   "execution_count": 19,
   "metadata": {},
   "outputs": [
    {
     "data": {
      "image/png": "[encoded data removed]",
      "text/plain": [
       "<Figure size 842.4x595.44 with 1 Axes>"
      ]
     },
     "metadata": {},
     "output_type": "display_data"
    }
   ],
   "source": [
    "def plot_hist(data, col, dims = (11.7, 8.27)):\n",
    "    \"\"\"\n",
    "    This function plots a histogram of a numerical variable\n",
    "    \n",
    "    Parameters: \n",
    "            data: a dataframe like object\n",
    "            col: a string like object which can be found in data\n",
    "            dims: a tuple like object of lenght two which signifies the figure size\n",
    "            \n",
    "    Returns:\n",
    "            figure: a matplot figure like object\n",
    "    \"\"\"\n",
    "    fig, ax = plt.subplots(figsize=dims)  \n",
    "    figure = sns.distplot(data[col])\n",
    "    \n",
    "    return figure\n",
    "plot_hist(listing_new, col = 'price');"
   ]
  },
  {
   "cell_type": "markdown",
   "metadata": {},
   "source": [
    "The histogram plot shows that most of the house prices were below 100k dollars and only a very few number of houses costs more than 100k"
   ]
  },
  {
   "cell_type": "markdown",
   "metadata": {},
   "source": [
    "# Which house features has over 5% correlation with the price. Also, which house feature has the highest linear relationship with the price?"
   ]
  },
  {
   "cell_type": "markdown",
   "metadata": {},
   "source": [
    "we try to explore the features of a house that have a linear correlation with the price of the house. The Pearson correlation coefficient was used to examine the relationship and the line graph below shows the distribution of the correlation coefficients against the features"
   ]
  },
  {
   "cell_type": "code",
   "execution_count": 20,
   "metadata": {},
   "outputs": [],
   "source": [
    "def plot_heatmap(data, dims = (11.7, 8.27)):\n",
    "    \"\"\"\n",
    "    This function plots a histogram of a numerical variable\n",
    "    \n",
    "    Parameters: \n",
    "            data: a dataframe like object\n",
    "            dims: a tuple like object of lenght two which signifies the figure size\n",
    "            \n",
    "    Returns:\n",
    "            figure: a matplot figure like object\n",
    "    \"\"\"\n",
    "    fig, ax = plt.subplots(figsize=dims)\n",
    "    figure = sns.heatmap(data.corr())\n",
    "    \n",
    "    return figure"
   ]
  },
  {
   "cell_type": "code",
   "execution_count": 21,
   "metadata": {},
   "outputs": [
    {
     "data": {
      "image/png": "[encoded data removed]",
      "text/plain": [
       "<Figure size 842.4x595.44 with 2 Axes>"
      ]
     },
     "metadata": {},
     "output_type": "display_data"
    }
   ],
   "source": [
    "plot_heatmap(listing_new);"
   ]
  },
  {
   "cell_type": "code",
   "execution_count": 22,
   "metadata": {},
   "outputs": [],
   "source": [
    "def get_corr_vars(num_features, y, cut_off=0.05):\n",
    "    \"\"\"\n",
    "    This function computes the correlation values of y and all the columns of num_features\n",
    "    \n",
    "    Parameters: \n",
    "            num_features: DataFrame like object\n",
    "            y: a series like object of numerical type\n",
    "            cut_off: a float value between 0 and 1 that is used to cut of uncorrelated variables\n",
    "            \n",
    "    Returns:\n",
    "            correlation_all: a dict like object of all the calculated correlation\n",
    "            correlated: a dict like object of all the highly correlated items based on the cut_off\n",
    "    \"\"\"\n",
    "    correlation_all = {}\n",
    "    correlated = {}\n",
    "    for feature in num_features:\n",
    "        # getting the correlation coefficient of y and other numeric features where y is price in this analysis\n",
    "        \n",
    "        corr_value = y.corr(num_features[feature])  \n",
    "        correlation_all[feature] = corr_value # appending the correlation correlation coefficient to a key (feature)\n",
    "        if abs(corr_value) >= cut_off: \n",
    "            # dropping features whose coefficient is less than the specifief cut off\n",
    "            correlated[feature] = corr_value\n",
    "    return correlation_all, correlated"
   ]
  },
  {
   "cell_type": "code",
   "execution_count": 23,
   "metadata": {},
   "outputs": [],
   "source": [
    "correlate = get_corr_vars(num_var_features, price)"
   ]
  },
  {
   "cell_type": "code",
   "execution_count": 24,
   "metadata": {},
   "outputs": [],
   "source": [
    "corr_data = pd.DataFrame.from_dict(correlate[1], orient='index', columns=['corr_coef'])\n",
    "corr_data.reset_index(inplace=True)"
   ]
  },
  {
   "cell_type": "code",
   "execution_count": 25,
   "metadata": {},
   "outputs": [],
   "source": [
    "def plot_corr(data, dims = (10,7)):\n",
    "    \"\"\"\n",
    "    This function plots a line graph of the correlated variables\n",
    "    \n",
    "    Parameters: \n",
    "            data: a dataframe like object\n",
    "            dims: a tuple like object of lenght two which signifies the figure size\n",
    "            \n",
    "    Returns:\n",
    "            chart: a matplot figure like object\n",
    "    \"\"\"\n",
    "    plt.figure(figsize=dims)\n",
    "    chart = sns.lineplot(x='index', y='corr_coef', data = data)\n",
    "    # chart.set_xticklabels(labels=list(corr_data['index']),rotation = 45)\n",
    "    plt.xticks(rotation=45, horizontalalignment='right')\n",
    "    plt.xlabel('Features')\n",
    "    plt.ylabel('Correlation coefficient')\n",
    "    plt.title('Correlation of House Price and the numerical features');\n",
    "    \n",
    "    return chart"
   ]
  },
  {
   "cell_type": "code",
   "execution_count": 26,
   "metadata": {},
   "outputs": [],
   "source": [
    "list_ = list(correlate[1].keys())"
   ]
  },
  {
   "cell_type": "code",
   "execution_count": 27,
   "metadata": {},
   "outputs": [
    {
     "data": {
      "image/png": "[encoded data removed]",
      "text/plain": [
       "<Figure size 720x504 with 1 Axes>"
      ]
     },
     "metadata": {},
     "output_type": "display_data"
    }
   ],
   "source": [
    "plot_corr(corr_data);"
   ]
  },
  {
   "cell_type": "markdown",
   "metadata": {},
   "source": [
    "# How does the price of a house differ based on some categorical features"
   ]
  },
  {
   "cell_type": "markdown",
   "metadata": {},
   "source": [
    "There are several categorical features in the dataset, but for the sake of simplicity, we only examine the distribution of house price among room types based on their market"
   ]
  },
  {
   "cell_type": "code",
   "execution_count": 28,
   "metadata": {},
   "outputs": [
    {
     "data": {
      "image/png": "[encoded data removed]",
      "text/plain": [
       "<Figure size 576x360 with 1 Axes>"
      ]
     },
     "metadata": {},
     "output_type": "display_data"
    }
   ],
   "source": [
    "def plot_bar(data, x='room_type', y = price, hue=None, fig_size=(8,5)):  \n",
    "    \"\"\"\n",
    "    This function plots a bar graph of the numerical variable against categorical variables\n",
    "    \n",
    "    Parameters: \n",
    "            data: a dataframe like object\n",
    "            dims: a tuple like object of lenght two which signifies the figure size\n",
    "            \n",
    "    Returns:\n",
    "            chart: a matplot figure like object\n",
    "    \"\"\"\n",
    "    plt.figure(figsize=fig_size)\n",
    "    chart = sns.barplot(x=x, y=price, data = data, hue=hue)\n",
    "    plt.title('plot of {price} against {x} based on {hue}'.format(price=y.name, x = x, hue=hue))\n",
    "    \n",
    "    return chart\n",
    "plot_bar(categorical_features, hue='market');"
   ]
  },
  {
   "cell_type": "code",
   "execution_count": 29,
   "metadata": {},
   "outputs": [
    {
     "data": {
      "image/png": "[encoded data removed]",
      "text/plain": [
       "<Figure size 576x360 with 1 Axes>"
      ]
     },
     "metadata": {},
     "output_type": "display_data"
    }
   ],
   "source": [
    "plot_bar(categorical_features, x='cancellation_policy', hue='room_type');"
   ]
  },
  {
   "cell_type": "markdown",
   "metadata": {},
   "source": [
    "# What will the price of a new house be based on the the features"
   ]
  },
  {
   "cell_type": "markdown",
   "metadata": {},
   "source": [
    "Once the data scientist have a better understanding of the actual data, they can use any predictive modeling method, along with their business understanding, to predict different business insights. We will use Linear Regression method in this article"
   ]
  },
  {
   "cell_type": "code",
   "execution_count": 30,
   "metadata": {},
   "outputs": [],
   "source": [
    "# concatenating both the numerical and the categorical features into one\n",
    "all_features = [num_var_features[list_], categorical_dummies]\n",
    "features = pd.concat(all_features, axis=1)"
   ]
  },
  {
   "cell_type": "code",
   "execution_count": 31,
   "metadata": {},
   "outputs": [],
   "source": [
    "features.dropna(axis=0, inplace=True)"
   ]
  },
  {
   "cell_type": "code",
   "execution_count": 32,
   "metadata": {},
   "outputs": [],
   "source": [
    "features.drop('id', axis=1, inplace=True)"
   ]
  },
  {
   "cell_type": "code",
   "execution_count": 33,
   "metadata": {},
   "outputs": [],
   "source": [
    "from sklearn.model_selection import train_test_split\n",
    "from sklearn.metrics import r2_score, mean_squared_error, mean_absolute_error\n",
    "X = features\n",
    "y = price\n",
    "X_train,X_test,y_train,y_test = train_test_split(X,y,test_size=0.30,random_state=42) # splitting data into train and test set"
   ]
  },
  {
   "cell_type": "code",
   "execution_count": null,
   "metadata": {},
   "outputs": [],
   "source": [
    "from sklearn.linear_model import LinearRegression\n",
    "model = LinearRegression(normalize=True)\n",
    "model.fit(X_train, y_train)"
   ]
  },
  {
   "cell_type": "code",
   "execution_count": 299,
   "metadata": {},
   "outputs": [
    {
     "name": "stdout",
     "output_type": "stream",
     "text": [
      "MAE 24716234944077.176\n",
      "MSE 3.850664054519593e+29\n",
      "RMSE 620537191030448.5\n",
      "Score: -1.3453146213260305e+21\n"
     ]
    }
   ],
   "source": [
    "y_pred = model.predict(X_test)\n",
    "print(\"MAE\", mean_absolute_error(y_test, y_pred))\n",
    "print(\"MSE\", mean_squared_error(y_test, y_pred))\n",
    "print(\"RMSE\", np.sqrt(mean_squared_error(y_test, y_pred)))\n",
    "print(\"Score:\", np.round(model.score(X_test, y_test), 2))"
   ]
  },
  {
   "cell_type": "code",
   "execution_count": null,
   "metadata": {},
   "outputs": [],
   "source": []
  }
 ],
 "metadata": {
  "kernelspec": {
   "display_name": "Python 3",
   "language": "python",
   "name": "python3"
  },
  "language_info": {
   "codemirror_mode": {
    "name": "ipython",
    "version": 3
   },
   "file_extension": ".py",
   "mimetype": "text/x-python",
   "name": "python",
   "nbconvert_exporter": "python",
   "pygments_lexer": "ipython3",
   "version": "3.7.3"
  }
 },
 "nbformat": 4,
 "nbformat_minor": 2
}
